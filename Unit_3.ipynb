{
  "nbformat": 4,
  "nbformat_minor": 0,
  "metadata": {
    "colab": {
      "provenance": []
    },
    "kernelspec": {
      "name": "python3",
      "display_name": "Python 3"
    },
    "language_info": {
      "name": "python"
    }
  },
  "cells": [
    {
      "cell_type": "code",
      "execution_count": 1,
      "metadata": {
        "colab": {
          "base_uri": "https://localhost:8080/"
        },
        "id": "RJbQgC_GVy7b",
        "outputId": "cf7ab820-09e5-4ffd-fb84-94d5555c3b51"
      },
      "outputs": [
        {
          "output_type": "stream",
          "name": "stdout",
          "text": [
            "Original array: [1 2 2 3 4 4 4 5]\n",
            "\n",
            "Using repr():\n",
            "array([1, 2, 2, 3, 4, 4, 4, 5])\n",
            "\n",
            "Using count():\n",
            "Count of 4 in array: 3\n",
            "\n",
            "Using np.bincount():\n",
            "Element counts (by index): [0 1 2 1 3 1]\n",
            "\n",
            "Using np.unique():\n",
            "Unique elements: [1 2 3 4 5]\n",
            "Counts: [1 2 1 3 1]\n"
          ]
        }
      ],
      "source": [
        "import numpy as np\n",
        "arr = np.array([1, 2, 2, 3, 4, 4, 4, 5])\n",
        "print(\"Original array:\", arr)\n",
        "print(\"\\nUsing repr():\")\n",
        "\n",
        "print(repr(arr))\n",
        "print(\"\\nUsing count():\")\n",
        "arr_list = arr.tolist()\n",
        "print(\"Count of 4 in array:\", arr_list.count(4))\n",
        "print(\"\\nUsing np.bincount():\")\n",
        "print(\"Element counts (by index):\", np.bincount(arr))\n",
        "print(\"\\nUsing np.unique():\")\n",
        "unique_elements, counts = np.unique(arr, return_counts=True)\n",
        "print(\"Unique elements:\", unique_elements)\n",
        "print(\"Counts:\", counts)"
      ]
    },
    {
      "cell_type": "markdown",
      "source": [],
      "metadata": {
        "id": "NeodAOTGWTTO"
      }
    },
    {
      "cell_type": "code",
      "source": [
        "import numpy as np\n",
        "arr = np.array([4, 7, 2, 9, 2, 7, 5, 9, 2])\n",
        "print(\"Array:\", arr)\n",
        "value = 5\n",
        "greater_than_value = arr[arr > value]\n",
        "less_than_value = arr[arr < value]\n",
        "print(\"\\nNumbers greater than\", value, \":\", greater_than_value)\n",
        "print(\"Numbers less than\", value, \":\", less_than_value)\n",
        "max_value = np.max(arr)\n",
        "min_value = np.min(arr)\n",
        "max_index = np.argmax(arr)\n",
        "min_index = np.argmin(arr)\n",
        "print(\"\\nMaximum Value:\", max_value)\n",
        "print(\"Minimum Value:\", min_value)\n",
        "print(\"Index of Maximum Value:\", max_index)\n",
        "print(\"Index of Minimum Value:\", min_index)\n",
        "count_values = np.bincount(arr)\n",
        "unique_values, counts = np.unique(arr, return_counts=True)\n",
        "print(\"\\nFrequency count using bincount:\", count_values)\n",
        "print(\"Unique values:\", unique_values)\n",
        "print(\"Counts of unique values:\", counts)\n"
      ],
      "metadata": {
        "colab": {
          "base_uri": "https://localhost:8080/"
        },
        "id": "UvrJr1zHWRZC",
        "outputId": "a5d3fdd5-be3d-43ee-d2b0-c08fd178b033"
      },
      "execution_count": 2,
      "outputs": [
        {
          "output_type": "stream",
          "name": "stdout",
          "text": [
            "Array: [4 7 2 9 2 7 5 9 2]\n",
            "\n",
            "Numbers greater than 5 : [7 9 7 9]\n",
            "Numbers less than 5 : [4 2 2 2]\n",
            "\n",
            "Maximum Value: 9\n",
            "Minimum Value: 2\n",
            "Index of Maximum Value: 3\n",
            "Index of Minimum Value: 2\n",
            "\n",
            "Frequency count using bincount: [0 0 3 0 1 1 0 2 0 2]\n",
            "Unique values: [2 4 5 7 9]\n",
            "Counts of unique values: [3 1 1 2 2]\n"
          ]
        }
      ]
    }
  ]
}