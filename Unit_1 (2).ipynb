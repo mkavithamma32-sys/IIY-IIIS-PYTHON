{
  "nbformat": 4,
  "nbformat_minor": 0,
  "metadata": {
    "colab": {
      "provenance": []
    },
    "kernelspec": {
      "name": "python3",
      "display_name": "Python 3"
    },
    "language_info": {
      "name": "python"
    }
  },
  "cells": [
    {
      "cell_type": "code",
      "execution_count": 1,
      "metadata": {
        "colab": {
          "base_uri": "https://localhost:8080/"
        },
        "id": "WRZ9aOzddVbS",
        "outputId": "4fa73d24-28bc-444f-dabf-b030f47f9eea"
      },
      "outputs": [
        {
          "output_type": "stream",
          "name": "stdout",
          "text": [
            "Enter weight in Kg to Convert into pounds:20\n",
            "20.0  Kilograms = 44.0  Pounds\n"
          ]
        }
      ],
      "source": [
        "kilo_grams = float(input('Enter weight in Kg to Convert into pounds:'))\n",
        "pounds = kilo_grams * 2.2\n",
        "print(kilo_grams,' Kilograms =', pounds,' Pounds')"
      ]
    },
    {
      "cell_type": "code",
      "source": [
        "for i in range(8,90,3):\n",
        "    print(i,end=\" \")"
      ],
      "metadata": {
        "colab": {
          "base_uri": "https://localhost:8080/"
        },
        "id": "gZ1Yn8QodpMe",
        "outputId": "e6315898-89c2-4d24-cc97-32b3b349badc"
      },
      "execution_count": 2,
      "outputs": [
        {
          "output_type": "stream",
          "name": "stdout",
          "text": [
            "8 11 14 17 20 23 26 29 32 35 38 41 44 47 50 53 56 59 62 65 68 71 74 77 80 83 86 89 "
          ]
        }
      ]
    },
    {
      "cell_type": "code",
      "source": [
        "text = \"Hello\"\n",
        "char_list = list(text)\n",
        "print(char_list)  # Output: ['H', 'e', 'l', 'l', 'o']"
      ],
      "metadata": {
        "colab": {
          "base_uri": "https://localhost:8080/"
        },
        "id": "0NP7qzHMdvBX",
        "outputId": "94302100-b747-4cef-dd38-359c65c8cf2f"
      },
      "execution_count": 3,
      "outputs": [
        {
          "output_type": "stream",
          "name": "stdout",
          "text": [
            "['H', 'e', 'l', 'l', 'o']\n"
          ]
        }
      ]
    },
    {
      "cell_type": "code",
      "source": [
        "numbers = [10, 45, 2, 99, 65]\n",
        "largest = max(numbers)\n",
        "print(\"Largest number is:\", largest)"
      ],
      "metadata": {
        "colab": {
          "base_uri": "https://localhost:8080/"
        },
        "id": "6SHtLUCIdyAh",
        "outputId": "ab68dd59-ca1a-449f-d44a-35db7d4588c1"
      },
      "execution_count": 4,
      "outputs": [
        {
          "output_type": "stream",
          "name": "stdout",
          "text": [
            "Largest number is: 99\n"
          ]
        }
      ]
    },
    {
      "cell_type": "code",
      "source": [
        "def fibonacci(n):\n",
        "    if n <= 0:\n",
        "        return \"Invalid input\"\n",
        "    elif n == 1:\n",
        "        return 0\n",
        "    elif n == 2:\n",
        "        return 1\n",
        "    else:\n",
        "        return fibonacci(n-1) + fibonacci(n-2)\n",
        "n = 7\n",
        "print(f\"Fibonacci number at position {n} is:\", fibonacci(n))\n"
      ],
      "metadata": {
        "id": "wcqLRTied1-r",
        "outputId": "d78ea0aa-6ed8-4c24-e282-0514afe18253",
        "colab": {
          "base_uri": "https://localhost:8080/"
        }
      },
      "execution_count": 6,
      "outputs": [
        {
          "output_type": "stream",
          "name": "stdout",
          "text": [
            "Fibonacci number at position 7 is: 8\n"
          ]
        }
      ]
    }
  ]
}